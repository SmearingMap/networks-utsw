{
 "cells": [
  {
   "cell_type": "markdown",
   "metadata": {},
   "source": [
    "![](sethna_title.png)"
   ]
  },
  {
   "cell_type": "code",
   "execution_count": 1,
   "metadata": {},
   "outputs": [],
   "source": [
    "import numpy as np\n",
    "import matplotlib.pyplot as plt\n",
    "%matplotlib inline"
   ]
  },
  {
   "cell_type": "markdown",
   "metadata": {},
   "source": [
    "## Fitting the model to data\n",
    "\n",
    "We have experimental data $\\mathbf{x}$ and we want to infer the parameters $\\mathbf{p}$ of a model:\n",
    "\n",
    "$$ \\frac{d\\mathbf{x}}{dt} = g(\\mathbf{x} ; \\mathbf{p}) + \\epsilon$$\n",
    "\n",
    "where $g$ is some function and $\\epsilon$ is some random noise.\n",
    "\n",
    "We can define a cost function of the parameters $C(\\mathbf{p}\\ | \\ \\mathbf{x})$ and pick the parameters that minimize the cost function:\n",
    "\n",
    "$$\\mathbf{p^{*}} = \\text{argmin}_{\\mathbf{p}}\\ C(\\mathbf{p}\\ |\\ \\mathbf{x})$$\n",
    "\n",
    "## Probing the fit by exploring the cost manifold\n",
    "\n",
    "Recall from elementary calculus that at any local minimimum\n",
    "\n",
    "$$\\frac{\\partial C}{\\partial p_i}\\bigg|_{\\mathbf{p^*}}  = 0$$\n",
    "\n",
    "If we want to know the change in cost due to changing one parameter by a small amount, we can approximate this by Taylor-expanding around $\\mathbf{p^*}$\n",
    "\n",
    "$$C(\\delta p_i) \\approx  C(\\mathbf{p^*}) + \\frac{1}{2} \\frac{\\partial^2 C}{\\partial p_i^2}\\bigg|_{\\mathbf{p^*}} \\delta p_i^2 + \\mathcal{O}(\\delta p_i^3) $$\n",
    "\n",
    "The larger the second derivative is, the more sharply curved the cost function is due to changes in that parameter.\n",
    "\n",
    "## Examples\n",
    "\n",
    "Here are three surfaces with varying degrees of curvature.\n",
    "\n",
    "![Three surfaces with varying degrees of curvature](three-surfaces.png)\n",
    "\n",
    "And here is one that is sharply curved in the direction of one coordinate but almost flat in the other.\n",
    "\n",
    "![A surface that is sharply curved in one direction but almost flat in the other](asymmetric_surface.png)\n",
    "\n",
    "## Generalization\n",
    "\n",
    "This is generalized to $N$ dimensions with the *Hessian matrix*, which is the matrix with elements\n",
    "\n",
    "$$H_{ij} = \\frac{\\partial^2 C(\\mathbf{p})}{\\partial p_i \\partial p_j} \\bigg|_{\\mathbf{p}^*}$$\n",
    "\n",
    "## Combinations of parameters\n",
    "\n",
    "There is no reason to think that the parameters we measure will be orthogonal (i.e. the non-diagonal entries of the Hessian will not be zero), but the eigenvectors of the Hessian matrix will be orthogonal.  We can use these to quantify how sensitive the model predictions are to variations in *combinations* of parameters."
   ]
  }
 ],
 "metadata": {
  "kernelspec": {
   "display_name": "Python 3",
   "language": "python",
   "name": "python3"
  },
  "language_info": {
   "codemirror_mode": {
    "name": "ipython",
    "version": 3
   },
   "file_extension": ".py",
   "mimetype": "text/x-python",
   "name": "python",
   "nbconvert_exporter": "python",
   "pygments_lexer": "ipython3",
   "version": "3.6.4"
  }
 },
 "nbformat": 4,
 "nbformat_minor": 2
}
